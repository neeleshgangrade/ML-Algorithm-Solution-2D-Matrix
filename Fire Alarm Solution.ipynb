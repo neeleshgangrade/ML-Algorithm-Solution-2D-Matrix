{
 "cells": [
  {
   "cell_type": "code",
   "execution_count": 1,
   "id": "68183c29",
   "metadata": {},
   "outputs": [],
   "source": [
    "def distance(x):\n",
    "    import numpy as np\n",
    "    lst = np.zeros((5,5))\n",
    "    res = []\n",
    "    new = []\n",
    "    pos=[]\n",
    "    neg=[]\n",
    "    for i in range(5):\n",
    "        for j in range(5):\n",
    "            y=i*5+j+1\n",
    "            if x[i][j]==\"R\":\n",
    "                res.append((i)*5+(j+1))\n",
    "            for k in range(5):\n",
    "                for l in range(5):\n",
    "                    \n",
    "                    if x[k][l]==\"F\":\n",
    "                        f= (k*5+l+1)\n",
    "\n",
    "    for t in res:\n",
    "        a= t-f\n",
    "        if a>=0:\n",
    "            pos.append(a)\n",
    "        else:\n",
    "            neg.append(a)\n",
    "    pos.sort()\n",
    "    n = np.sort(neg)[::-1]\n",
    "    if len(n)>0 and len(pos)>0:\n",
    "        new = [n[0], pos[0]]\n",
    "    elif len(n)==0 and len(pos)>0:\n",
    "        new= [pos[0]]\n",
    "    elif len(n)>0 and len(pos)==0:\n",
    "        new=[n[0]]\n",
    "    np.sort(new)\n",
    "    if len(new)>1:\n",
    "        v=new[0]+1\n",
    "        w=new[1]-1\n",
    "    elif new[0]>0:\n",
    "        v=-f+1\n",
    "        w=new[0]\n",
    "    elif new[0]<0:\n",
    "        v=new[0]+1\n",
    "        w=5*5-f\n",
    "    \n",
    "\n",
    "    for k in range(5):\n",
    "        for l in range(5):\n",
    "            if x[k][l]==\"F\":\n",
    "  \n",
    "                for z in range(v,w+1):\n",
    "                    p = int((k*5+l+z)/5)\n",
    "                    q= int((k*5+l+z)%5)\n",
    "                    lst[p][q]=abs(z)\n",
    "\n",
    "                    \n",
    " \n",
    " \n",
    "\n",
    "                        \n",
    "    print(lst)\n",
    "                "
   ]
  },
  {
   "cell_type": "code",
   "execution_count": 2,
   "id": "e0d4d635",
   "metadata": {},
   "outputs": [
    {
     "name": "stdout",
     "output_type": "stream",
     "text": [
      "[[0. 0. 0. 0. 0.]\n",
      " [0. 0. 0. 0. 3.]\n",
      " [2. 1. 0. 1. 2.]\n",
      " [3. 4. 5. 0. 0.]\n",
      " [0. 0. 0. 0. 0.]]\n"
     ]
    }
   ],
   "source": [
    "distance([[\"\",\"\",\"\",\"\",\"\"],[\"\",\"\",\"R\",\"R\",\"\"],[\"\",\"\",\"F\",\"\",\"\"],[\"\",\"\",\"\",\"R\",\"\"],[\"\",\"\",\"\",\"\",\"\"]])"
   ]
  },
  {
   "cell_type": "code",
   "execution_count": null,
   "id": "79ad05f7",
   "metadata": {},
   "outputs": [],
   "source": []
  }
 ],
 "metadata": {
  "kernelspec": {
   "display_name": "Python 3 (ipykernel)",
   "language": "python",
   "name": "python3"
  },
  "language_info": {
   "codemirror_mode": {
    "name": "ipython",
    "version": 3
   },
   "file_extension": ".py",
   "mimetype": "text/x-python",
   "name": "python",
   "nbconvert_exporter": "python",
   "pygments_lexer": "ipython3",
   "version": "3.9.12"
  }
 },
 "nbformat": 4,
 "nbformat_minor": 5
}
